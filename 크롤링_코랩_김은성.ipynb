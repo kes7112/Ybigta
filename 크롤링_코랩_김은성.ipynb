{
  "nbformat": 4,
  "nbformat_minor": 0,
  "metadata": {
    "colab": {
      "name": "크롤링_코랩_김은성",
      "provenance": []
    },
    "kernelspec": {
      "name": "python3",
      "display_name": "Python 3"
    },
    "language_info": {
      "name": "python"
    }
  },
  "cells": [
    {
      "cell_type": "code",
      "execution_count": 1,
      "metadata": {
        "colab": {
          "base_uri": "https://localhost:8080/"
        },
        "id": "UxnHKB4noXVj",
        "outputId": "916fbbc2-8e2a-44ee-fbdf-653eae2a6c47"
      },
      "outputs": [
        {
          "output_type": "stream",
          "name": "stdout",
          "text": [
            "Collecting selenium\n",
            "  Downloading selenium-4.1.0-py3-none-any.whl (958 kB)\n",
            "\u001b[K     |████████████████████████████████| 958 kB 5.5 MB/s \n",
            "\u001b[?25hCollecting urllib3[secure]~=1.26\n",
            "  Downloading urllib3-1.26.8-py2.py3-none-any.whl (138 kB)\n",
            "\u001b[K     |████████████████████████████████| 138 kB 52.7 MB/s \n",
            "\u001b[?25hCollecting trio-websocket~=0.9\n",
            "  Downloading trio_websocket-0.9.2-py3-none-any.whl (16 kB)\n",
            "Collecting trio~=0.17\n",
            "  Downloading trio-0.19.0-py3-none-any.whl (356 kB)\n",
            "\u001b[K     |████████████████████████████████| 356 kB 37.5 MB/s \n",
            "\u001b[?25hRequirement already satisfied: sortedcontainers in /usr/local/lib/python3.7/dist-packages (from trio~=0.17->selenium) (2.4.0)\n",
            "Requirement already satisfied: attrs>=19.2.0 in /usr/local/lib/python3.7/dist-packages (from trio~=0.17->selenium) (21.4.0)\n",
            "Collecting outcome\n",
            "  Downloading outcome-1.1.0-py2.py3-none-any.whl (9.7 kB)\n",
            "Requirement already satisfied: idna in /usr/local/lib/python3.7/dist-packages (from trio~=0.17->selenium) (2.10)\n",
            "Collecting sniffio\n",
            "  Downloading sniffio-1.2.0-py3-none-any.whl (10 kB)\n",
            "Collecting async-generator>=1.9\n",
            "  Downloading async_generator-1.10-py3-none-any.whl (18 kB)\n",
            "Collecting wsproto>=0.14\n",
            "  Downloading wsproto-1.0.0-py3-none-any.whl (24 kB)\n",
            "Collecting cryptography>=1.3.4\n",
            "  Downloading cryptography-36.0.1-cp36-abi3-manylinux_2_24_x86_64.whl (3.6 MB)\n",
            "\u001b[K     |████████████████████████████████| 3.6 MB 36.5 MB/s \n",
            "\u001b[?25hCollecting pyOpenSSL>=0.14\n",
            "  Downloading pyOpenSSL-22.0.0-py2.py3-none-any.whl (55 kB)\n",
            "\u001b[K     |████████████████████████████████| 55 kB 3.1 MB/s \n",
            "\u001b[?25hRequirement already satisfied: certifi in /usr/local/lib/python3.7/dist-packages (from urllib3[secure]~=1.26->selenium) (2021.10.8)\n",
            "Requirement already satisfied: cffi>=1.12 in /usr/local/lib/python3.7/dist-packages (from cryptography>=1.3.4->urllib3[secure]~=1.26->selenium) (1.15.0)\n",
            "Requirement already satisfied: pycparser in /usr/local/lib/python3.7/dist-packages (from cffi>=1.12->cryptography>=1.3.4->urllib3[secure]~=1.26->selenium) (2.21)\n",
            "Collecting h11<1,>=0.9.0\n",
            "  Downloading h11-0.13.0-py3-none-any.whl (58 kB)\n",
            "\u001b[K     |████████████████████████████████| 58 kB 4.4 MB/s \n",
            "\u001b[?25hRequirement already satisfied: typing-extensions in /usr/local/lib/python3.7/dist-packages (from h11<1,>=0.9.0->wsproto>=0.14->trio-websocket~=0.9->selenium) (3.10.0.2)\n",
            "Installing collected packages: sniffio, outcome, h11, cryptography, async-generator, wsproto, urllib3, trio, pyOpenSSL, trio-websocket, selenium\n",
            "  Attempting uninstall: urllib3\n",
            "    Found existing installation: urllib3 1.24.3\n",
            "    Uninstalling urllib3-1.24.3:\n",
            "      Successfully uninstalled urllib3-1.24.3\n",
            "\u001b[31mERROR: pip's dependency resolver does not currently take into account all the packages that are installed. This behaviour is the source of the following dependency conflicts.\n",
            "requests 2.23.0 requires urllib3!=1.25.0,!=1.25.1,<1.26,>=1.21.1, but you have urllib3 1.26.8 which is incompatible.\n",
            "datascience 0.10.6 requires folium==0.2.1, but you have folium 0.8.3 which is incompatible.\u001b[0m\n",
            "Successfully installed async-generator-1.10 cryptography-36.0.1 h11-0.13.0 outcome-1.1.0 pyOpenSSL-22.0.0 selenium-4.1.0 sniffio-1.2.0 trio-0.19.0 trio-websocket-0.9.2 urllib3-1.26.8 wsproto-1.0.0\n",
            "Get:1 https://cloud.r-project.org/bin/linux/ubuntu bionic-cran40/ InRelease [3,626 B]\n",
            "Ign:2 https://developer.download.nvidia.com/compute/cuda/repos/ubuntu1804/x86_64  InRelease\n",
            "Get:3 http://security.ubuntu.com/ubuntu bionic-security InRelease [88.7 kB]\n",
            "Ign:4 https://developer.download.nvidia.com/compute/machine-learning/repos/ubuntu1804/x86_64  InRelease\n",
            "Get:5 https://developer.download.nvidia.com/compute/cuda/repos/ubuntu1804/x86_64  Release [696 B]\n",
            "Hit:6 https://developer.download.nvidia.com/compute/machine-learning/repos/ubuntu1804/x86_64  Release\n",
            "Hit:7 http://archive.ubuntu.com/ubuntu bionic InRelease\n",
            "Get:8 http://ppa.launchpad.net/c2d4u.team/c2d4u4.0+/ubuntu bionic InRelease [15.9 kB]\n",
            "Get:9 https://developer.download.nvidia.com/compute/cuda/repos/ubuntu1804/x86_64  Release.gpg [836 B]\n",
            "Get:10 http://archive.ubuntu.com/ubuntu bionic-updates InRelease [88.7 kB]\n",
            "Hit:11 http://ppa.launchpad.net/cran/libgit2/ubuntu bionic InRelease\n",
            "Get:13 http://archive.ubuntu.com/ubuntu bionic-backports InRelease [74.6 kB]\n",
            "Hit:14 http://ppa.launchpad.net/deadsnakes/ppa/ubuntu bionic InRelease\n",
            "Get:15 http://security.ubuntu.com/ubuntu bionic-security/restricted amd64 Packages [783 kB]\n",
            "Get:16 http://security.ubuntu.com/ubuntu bionic-security/multiverse amd64 Packages [21.1 kB]\n",
            "Get:17 http://security.ubuntu.com/ubuntu bionic-security/universe amd64 Packages [1,468 kB]\n",
            "Get:18 http://ppa.launchpad.net/graphics-drivers/ppa/ubuntu bionic InRelease [21.3 kB]\n",
            "Get:19 http://security.ubuntu.com/ubuntu bionic-security/main amd64 Packages [2,564 kB]\n",
            "Get:20 https://developer.download.nvidia.com/compute/cuda/repos/ubuntu1804/x86_64  Packages [917 kB]\n",
            "Get:21 http://ppa.launchpad.net/c2d4u.team/c2d4u4.0+/ubuntu bionic/main Sources [1,825 kB]\n",
            "Get:22 http://archive.ubuntu.com/ubuntu bionic-updates/restricted amd64 Packages [816 kB]\n",
            "Get:23 http://archive.ubuntu.com/ubuntu bionic-updates/universe amd64 Packages [2,247 kB]\n",
            "Get:24 http://archive.ubuntu.com/ubuntu bionic-updates/main amd64 Packages [3,004 kB]\n",
            "Get:25 http://ppa.launchpad.net/c2d4u.team/c2d4u4.0+/ubuntu bionic/main amd64 Packages [935 kB]\n",
            "Get:26 http://archive.ubuntu.com/ubuntu bionic-updates/multiverse amd64 Packages [29.0 kB]\n",
            "Get:27 http://ppa.launchpad.net/graphics-drivers/ppa/ubuntu bionic/main amd64 Packages [42.8 kB]\n",
            "Fetched 14.9 MB in 4s (3,607 kB/s)\n",
            "Reading package lists... Done\n",
            "Reading package lists... Done\n",
            "Building dependency tree       \n",
            "Reading state information... Done\n",
            "The following packages were automatically installed and are no longer required:\n",
            "  cuda-command-line-tools-10-0 cuda-command-line-tools-10-1\n",
            "  cuda-command-line-tools-11-0 cuda-compiler-10-0 cuda-compiler-10-1\n",
            "  cuda-compiler-11-0 cuda-cuobjdump-10-0 cuda-cuobjdump-10-1\n",
            "  cuda-cuobjdump-11-0 cuda-cupti-10-0 cuda-cupti-10-1 cuda-cupti-11-0\n",
            "  cuda-cupti-dev-11-0 cuda-documentation-10-0 cuda-documentation-10-1\n",
            "  cuda-documentation-11-0 cuda-documentation-11-1 cuda-gdb-10-0 cuda-gdb-10-1\n",
            "  cuda-gdb-11-0 cuda-gpu-library-advisor-10-0 cuda-gpu-library-advisor-10-1\n",
            "  cuda-libraries-10-0 cuda-libraries-10-1 cuda-libraries-11-0\n",
            "  cuda-memcheck-10-0 cuda-memcheck-10-1 cuda-memcheck-11-0 cuda-nsight-10-0\n",
            "  cuda-nsight-10-1 cuda-nsight-11-0 cuda-nsight-11-1 cuda-nsight-compute-10-0\n",
            "  cuda-nsight-compute-10-1 cuda-nsight-compute-11-0 cuda-nsight-compute-11-1\n",
            "  cuda-nsight-systems-10-1 cuda-nsight-systems-11-0 cuda-nsight-systems-11-1\n",
            "  cuda-nvcc-10-0 cuda-nvcc-10-1 cuda-nvcc-11-0 cuda-nvdisasm-10-0\n",
            "  cuda-nvdisasm-10-1 cuda-nvdisasm-11-0 cuda-nvml-dev-10-0 cuda-nvml-dev-10-1\n",
            "  cuda-nvml-dev-11-0 cuda-nvprof-10-0 cuda-nvprof-10-1 cuda-nvprof-11-0\n",
            "  cuda-nvprune-10-0 cuda-nvprune-10-1 cuda-nvprune-11-0 cuda-nvtx-10-0\n",
            "  cuda-nvtx-10-1 cuda-nvtx-11-0 cuda-nvvp-10-0 cuda-nvvp-10-1 cuda-nvvp-11-0\n",
            "  cuda-nvvp-11-1 cuda-samples-10-0 cuda-samples-10-1 cuda-samples-11-0\n",
            "  cuda-samples-11-1 cuda-sanitizer-11-0 cuda-sanitizer-api-10-1\n",
            "  cuda-toolkit-10-0 cuda-toolkit-10-1 cuda-toolkit-11-0 cuda-toolkit-11-1\n",
            "  cuda-tools-10-0 cuda-tools-10-1 cuda-tools-11-0 cuda-tools-11-1\n",
            "  cuda-visual-tools-10-0 cuda-visual-tools-10-1 cuda-visual-tools-11-0\n",
            "  cuda-visual-tools-11-1 default-jre dkms freeglut3 freeglut3-dev\n",
            "  keyboard-configuration libargon2-0 libcap2 libcryptsetup12\n",
            "  libdevmapper1.02.1 libfontenc1 libidn11 libip4tc0 libjansson4\n",
            "  libnvidia-cfg1-510 libnvidia-common-460 libnvidia-common-510\n",
            "  libnvidia-extra-510 libnvidia-fbc1-510 libnvidia-gl-510 libpam-systemd\n",
            "  libpolkit-agent-1-0 libpolkit-backend-1-0 libpolkit-gobject-1-0 libxfont2\n",
            "  libxi-dev libxkbfile1 libxmu-dev libxmu-headers libxnvctrl0\n",
            "  nsight-compute-2020.2.1 nsight-compute-2022.1.0 nsight-systems-2020.3.2\n",
            "  nsight-systems-2020.3.4 nsight-systems-2021.5.2 nvidia-dkms-510\n",
            "  nvidia-kernel-common-510 nvidia-kernel-source-510 nvidia-modprobe\n",
            "  nvidia-settings openjdk-11-jre policykit-1 policykit-1-gnome python3-xkit\n",
            "  screen-resolution-extra systemd systemd-sysv udev x11-xkb-utils\n",
            "  xserver-common xserver-xorg-core-hwe-18.04 xserver-xorg-video-nvidia-510\n",
            "Use 'apt autoremove' to remove them.\n",
            "The following additional packages will be installed:\n",
            "  chromium-browser chromium-browser-l10n chromium-codecs-ffmpeg-extra\n",
            "Suggested packages:\n",
            "  webaccounts-chromium-extension unity-chromium-extension\n",
            "The following NEW packages will be installed:\n",
            "  chromium-browser chromium-browser-l10n chromium-chromedriver\n",
            "  chromium-codecs-ffmpeg-extra\n",
            "0 upgraded, 4 newly installed, 0 to remove and 63 not upgraded.\n",
            "Need to get 95.3 MB of archives.\n",
            "After this operation, 327 MB of additional disk space will be used.\n",
            "Get:1 http://archive.ubuntu.com/ubuntu bionic-updates/universe amd64 chromium-codecs-ffmpeg-extra amd64 97.0.4692.71-0ubuntu0.18.04.1 [1,142 kB]\n",
            "Get:2 http://archive.ubuntu.com/ubuntu bionic-updates/universe amd64 chromium-browser amd64 97.0.4692.71-0ubuntu0.18.04.1 [84.7 MB]\n",
            "Get:3 http://archive.ubuntu.com/ubuntu bionic-updates/universe amd64 chromium-browser-l10n all 97.0.4692.71-0ubuntu0.18.04.1 [4,370 kB]\n",
            "Get:4 http://archive.ubuntu.com/ubuntu bionic-updates/universe amd64 chromium-chromedriver amd64 97.0.4692.71-0ubuntu0.18.04.1 [5,055 kB]\n",
            "Fetched 95.3 MB in 5s (20.3 MB/s)\n",
            "Selecting previously unselected package chromium-codecs-ffmpeg-extra.\n",
            "(Reading database ... 155113 files and directories currently installed.)\n",
            "Preparing to unpack .../chromium-codecs-ffmpeg-extra_97.0.4692.71-0ubuntu0.18.04.1_amd64.deb ...\n",
            "Unpacking chromium-codecs-ffmpeg-extra (97.0.4692.71-0ubuntu0.18.04.1) ...\n",
            "Selecting previously unselected package chromium-browser.\n",
            "Preparing to unpack .../chromium-browser_97.0.4692.71-0ubuntu0.18.04.1_amd64.deb ...\n",
            "Unpacking chromium-browser (97.0.4692.71-0ubuntu0.18.04.1) ...\n",
            "Selecting previously unselected package chromium-browser-l10n.\n",
            "Preparing to unpack .../chromium-browser-l10n_97.0.4692.71-0ubuntu0.18.04.1_all.deb ...\n",
            "Unpacking chromium-browser-l10n (97.0.4692.71-0ubuntu0.18.04.1) ...\n",
            "Selecting previously unselected package chromium-chromedriver.\n",
            "Preparing to unpack .../chromium-chromedriver_97.0.4692.71-0ubuntu0.18.04.1_amd64.deb ...\n",
            "Unpacking chromium-chromedriver (97.0.4692.71-0ubuntu0.18.04.1) ...\n",
            "Setting up chromium-codecs-ffmpeg-extra (97.0.4692.71-0ubuntu0.18.04.1) ...\n",
            "Setting up chromium-browser (97.0.4692.71-0ubuntu0.18.04.1) ...\n",
            "update-alternatives: using /usr/bin/chromium-browser to provide /usr/bin/x-www-browser (x-www-browser) in auto mode\n",
            "update-alternatives: using /usr/bin/chromium-browser to provide /usr/bin/gnome-www-browser (gnome-www-browser) in auto mode\n",
            "Setting up chromium-chromedriver (97.0.4692.71-0ubuntu0.18.04.1) ...\n",
            "Setting up chromium-browser-l10n (97.0.4692.71-0ubuntu0.18.04.1) ...\n",
            "Processing triggers for man-db (2.8.3-2ubuntu0.1) ...\n",
            "Processing triggers for hicolor-icon-theme (0.17-2) ...\n",
            "Processing triggers for mime-support (3.60ubuntu1) ...\n",
            "Processing triggers for libc-bin (2.27-3ubuntu1.3) ...\n",
            "/sbin/ldconfig.real: /usr/local/lib/python3.7/dist-packages/ideep4py/lib/libmkldnn.so.0 is not a symbolic link\n",
            "\n",
            "cp: '/usr/lib/chromium-browser/chromedriver' and '/usr/bin/chromedriver' are the same file\n"
          ]
        }
      ],
      "source": [
        "#이 부분은 처음 한번만 실행하면 됌.\n",
        "!pip install selenium\n",
        "!apt-get update\n",
        "!apt install chromium-chromedriver\n",
        "!cp /usr/lib/chromium-browser/chromedriver /usr/bin\n",
        " \n",
        "# -*- coding: UTF-8 -*-\n",
        "import time\n",
        "from selenium import webdriver\n",
        " \n",
        "#Colab에선 웹브라우저 창이 뜨지 않으므로 별도 설정한다.\n",
        " \n",
        "options = webdriver.ChromeOptions()\n",
        "options.add_argument('--headless')        # Head-less 설정\n",
        "options.add_argument('--no-sandbox')\n",
        "options.add_argument('--disable-dev-shm-usage')\n",
        "driver = webdriver.Chrome('chromedriver', options=options)"
      ]
    },
    {
      "cell_type": "code",
      "source": [
        "#해당 url로 이동\n",
        "url = \"https://www.naver.com/\" \n",
        "driver.get(url)\n",
        " \n",
        "update = driver.find_element_by_css_selector('#NM_TS_ROLLING_WRAP > div > div')\n",
        "print(update.text)"
      ],
      "metadata": {
        "colab": {
          "base_uri": "https://localhost:8080/"
        },
        "id": "sxpIT73toz20",
        "outputId": "f980f504-7721-4e9a-def4-da1b38632470"
      },
      "execution_count": 2,
      "outputs": [
        {
          "output_type": "stream",
          "name": "stdout",
          "text": [
            "이슈\n",
            "코로나바이러스감염증-19 현황\n"
          ]
        },
        {
          "output_type": "stream",
          "name": "stderr",
          "text": [
            "/usr/local/lib/python3.7/dist-packages/ipykernel_launcher.py:5: DeprecationWarning: find_element_by_* commands are deprecated. Please use find_element() instead\n",
            "  \"\"\"\n"
          ]
        }
      ]
    },
    {
      "cell_type": "code",
      "source": [
        "import re\n",
        "import requests\n",
        "from bs4 import BeautifulSoup"
      ],
      "metadata": {
        "colab": {
          "base_uri": "https://localhost:8080/"
        },
        "id": "Flt2kY7EpOYs",
        "outputId": "3fc35dec-bce4-4a8d-f687-1d321fdeff13"
      },
      "execution_count": 3,
      "outputs": [
        {
          "output_type": "stream",
          "name": "stderr",
          "text": [
            "/usr/local/lib/python3.7/dist-packages/requests/__init__.py:91: RequestsDependencyWarning: urllib3 (1.26.8) or chardet (3.0.4) doesn't match a supported version!\n",
            "  RequestsDependencyWarning)\n"
          ]
        }
      ]
    },
    {
      "cell_type": "code",
      "source": [
        "cine21_url = 'http://www.cine21.com/rank/person/'\n",
        "res = requests.get(cine21_url)\n",
        "print(res.text) # get으로 할 경우 배우 리스트가 응답으로 반환되지 않음(사이트마다 다름)"
      ],
      "metadata": {
        "id": "Og7TMAARpP4z"
      },
      "execution_count": null,
      "outputs": []
    },
    {
      "cell_type": "code",
      "execution_count": 5,
      "metadata": {
        "id": "9Ghta3ZIvaeQ"
      },
      "outputs": [],
      "source": [
        "cine21_url = 'http://www.cine21.com/rank/person/content'\n",
        "post_data = dict()\n",
        "post_data['section'] = 'actor'\n",
        "post_data['period_start'] = '2022-01'\n",
        "post_data['gender'] = 'all'\n",
        "post_data['page'] = 1\n",
        "\n",
        "res = requests.post(cine21_url, data=post_data)"
      ]
    },
    {
      "cell_type": "code",
      "execution_count": 6,
      "metadata": {
        "colab": {
          "base_uri": "https://localhost:8080/",
          "height": 158
        },
        "id": "c2siOkjAvaeR",
        "outputId": "3cd59383-8e9f-4c11-b510-a8969e785a5a"
      },
      "outputs": [
        {
          "output_type": "execute_result",
          "data": {
            "application/vnd.google.colaboratory.intrinsic+json": {
              "type": "string"
            },
            "text/plain": [
              "'\\t\\t\\t<ul class=\"people_list\">\\r\\n\\t\\t\\t\\t<li class=\"people_li\">\\r\\n\\t\\t\\t\\t\\t<a href=\"/db/person/info/?person_id=78487\"><img src=\"https://image.cine21.com/resize/cine21/still/2017/1207/15_06_46__5a28da76c2e01[X145,145].jpg\" alt=\"\" class=\"people_thumb\" target=\"_blank\" /></a>\\r\\n\\t\\t\\t\\t\\t<div class=\"name\"><a href=\"/db/person/info/?person_id=78487\">강하늘(2편)</a></div>\\r\\n\\t\\t\\t\\t\\t<ul class=\"num_info\">\\r\\n\\t\\t\\t\\t\\t\\t<li><span class=\"tit\">흥행지수</span><strong>79,392</strong></li>\\r\\n\\t\\t\\t\\t\\t\\t<!--\\r\\n\\t\\t\\t\\t\\t\\t<li><a href=\"#\" class=\"btn_graph\"><span class=\"ico\"></span><span>흥행성적<br />그래프로 보기</span></a></li>\\r\\n\\t\\t\\t\\t\\t\\t-->\\r\\n\\t\\t\\t\\t\\t</ul>\\r\\n\\t\\t\\t\\t\\t<!-- 영화포스터는 최대 5개까지만 -->\\r\\n\\t\\t\\t\\t\\t<ul class=\"mov_list\">\\r\\n\\t\\t\\t\\t\\t\\t\\r\\n\\t\\t\\t\\t\\t\\t\\t<li>\\r\\n\\t\\t\\t\\t\\t\\t\\t\\t<a href=\"/movie/info/?movie_id=56540\">\\r\\n\\t\\t\\t\\t\\t\\t\\t\\t\\t<img src=\"https://image.cine21.com/resize/cine21/poster/2022/0127/56540_61f1fcfdd84ce[X85,120].jpg\" alt=\"\" class=\"thumb\"  target=\"_blank\" />\\r\\n\\t\\t\\t\\t\\t\\t\\t\\t\\t<span>해적: 도깨비 깃발</span>\\r\\n\\t\\t\\t\\t\\t\\t\\t\\t</a>\\r\\n\\t\\t\\t\\t\\t\\t\\t</li>\\r\\n\\t\\t\\t\\t\\t\\t\\r\\n\\t\\t\\t\\t\\t\\t\\t<li>\\r\\n\\t\\t\\t\\t\\t\\t\\t\\t<a href=\"/movie/info/?movie_id=57948\">\\r\\n\\t\\t\\t\\t\\t\\t\\t\\t\\t<img src=\"https://image.cine21.com/resize/cine21/poster/2021/1213/11_07_08__61b6aacc130e8[X85,120].jpg\" alt=\"\" class=\"thumb\"  target=\"_blank\" />\\r\\n\\t\\t\\t\\t\\t\\t\\t\\t\\t<span>해피 뉴 이어</span>\\r\\n\\t\\t\\t\\t\\t\\t\\t\\t</a>\\r\\n\\t\\t\\t\\t\\t\\t\\t</li>\\r\\n\\t\\t\\t\\t\\t\\t\\t\\t\\t\\t\\t</ul>\\r\\n\\t\\t\\t\\t\\t<!-- 순위 --><span class=\"grade\">1</span>\\r\\n\\t\\t\\t\\t</li>\\r\\n\\t\\t\\t\\t<li class=\"people_li\">\\r\\n\\t\\t\\t\\t\\t<a href=\"/db/person/info/?person_id=56311\"><img src=\"https://image.cine21.com/resize/cine21/still/2017/1212/16_33_34__5a2f864ecae09[X145,145].jpg\" alt=\"\" class=\"people_thumb\" target=\"_blank\" /></a>\\r\\n\\t\\t\\t\\t\\t<div class=\"name\"><a href=\"/db/person/info/?person_id=56311\">한효주(1편)</a></div>\\r\\n\\t\\t\\t\\t\\t<ul class=\"num_info\">\\r\\n\\t\\t\\t\\t\\t\\t<li><span class=\"tit\">흥행지수</span><strong>67,602</strong></li>\\r\\n\\t\\t\\t\\t\\t\\t<!--\\r\\n\\t\\t\\t\\t\\t\\t<li><a href=\"#\" class=\"btn_graph\"><span class=\"ico\"></span><span>흥행성적<br />그래프로 보기</span></a></li>\\r\\n\\t\\t\\t\\t\\t\\t-->\\r\\n\\t\\t\\t\\t\\t</ul>\\r\\n\\t\\t\\t\\t\\t<!-- 영화포스터는 최대 5개까지만 -->\\r\\n\\t\\t\\t\\t\\t<ul class=\"mov_list\">\\r\\n\\t\\t\\t\\t\\t\\t\\r\\n\\t\\t\\t\\t\\t\\t\\t<li>\\r\\n\\t\\t\\t\\t\\t\\t\\t\\t<a href=\"/movie/info/?movie_id=56540\">\\r\\n\\t\\t\\t\\t\\t\\t\\t\\t\\t<img src=\"https://image.cine21.com/resize/cine21/poster/2022/0127/56540_61f1fcfdd84ce[X85,120].jpg\" alt=\"\" class=\"thumb\"  target=\"_blank\" />\\r\\n\\t\\t\\t\\t\\t\\t\\t\\t\\t<span>해적: 도깨비 깃발</span>\\r\\n\\t\\t\\t\\t\\t\\t\\t\\t</a>\\r\\n\\t\\t\\t\\t\\t\\t\\t</li>\\r\\n\\t\\t\\t\\t\\t\\t\\t\\t\\t\\t\\t</ul>\\r\\n\\t\\t\\t\\t\\t<!-- 순위 --><span class=\"grade\">2</span>\\r\\n\\t\\t\\t\\t</li>\\r\\n\\t\\t\\t\\t<li class=\"people_li\">\\r\\n\\t\\t\\t\\t\\t<a href=\"/db/person/info/?person_id=71308\"><img src=\"https://image.cine21.com/resize/cine21/person/2019/1218/16_13_42__5df9d1a60608d[X145,145].jpg\" alt=\"\" class=\"people_thumb\" target=\"_blank\" /></a>\\r\\n\\t\\t\\t\\t\\t<div class=\"name\"><a href=\"/db/person/info/?person_id=71308\">이광수(2편)</a></div>\\r\\n\\t\\t\\t\\t\\t<ul class=\"num_info\">\\r\\n\\t\\t\\t\\t\\t\\t<li><span class=\"tit\">흥행지수</span><strong>59,677</strong></li>\\r\\n\\t\\t\\t\\t\\t\\t<!--\\r\\n\\t\\t\\t\\t\\t\\t<li><a href=\"#\" class=\"btn_graph\"><span class=\"ico\"></span><span>흥행성적<br />그래프로 보기</span></a></li>\\r\\n\\t\\t\\t\\t\\t\\t-->\\r\\n\\t\\t\\t\\t\\t</ul>\\r\\n\\t\\t\\t\\t\\t<!-- 영화포스터는 최대 5개까지만 -->\\r\\n\\t\\t\\t\\t\\t<ul class=\"mov_list\">\\r\\n\\t\\t\\t\\t\\t\\t\\r\\n\\t\\t\\t\\t\\t\\t\\t<li>\\r\\n\\t\\t\\t\\t\\t\\t\\t\\t<a href=\"/movie/info/?movie_id=56540\">\\r\\n\\t\\t\\t\\t\\t\\t\\t\\t\\t<img src=\"https://image.cine21.com/resize/cine21/poster/2022/0127/56540_61f1fcfdd84ce[X85,120].jpg\" alt=\"\" class=\"thumb\"  target=\"_blank\" />\\r\\n\\t\\t\\t\\t\\t\\t\\t\\t\\t<span>해적: 도깨비 깃발</span>\\r\\n\\t\\t\\t\\t\\t\\t\\t\\t</a>\\r\\n\\t\\t\\t\\t\\t\\t\\t</li>\\r\\n\\t\\t\\t\\t\\t\\t\\r\\n\\t\\t\\t\\t\\t\\t\\t<li>\\r\\n\\t\\t\\t\\t\\t\\t\\t\\t<a href=\"/movie/info/?movie_id=57948\">\\r\\n\\t\\t\\t\\t\\t\\t\\t\\t\\t<img src=\"https://image.cine21.com/resize/cine21/poster/2021/1213/11_07_08__61b6aacc130e8[X85,120].jpg\" alt=\"\" class=\"thumb\"  target=\"_blank\" />\\r\\n\\t\\t\\t\\t\\t\\t\\t\\t\\t<span>해피 뉴 이어</span>\\r\\n\\t\\t\\t\\t\\t\\t\\t\\t</a>\\r\\n\\t\\t\\t\\t\\t\\t\\t</li>\\r\\n\\t\\t\\t\\t\\t\\t\\t\\t\\t\\t\\t</ul>\\r\\n\\t\\t\\t\\t\\t<!-- 순위 --><span class=\"grade\">3</span>\\r\\n\\t\\t\\t\\t</li>\\r\\n\\t\\t\\t\\t<li class=\"people_li\">\\r\\n\\t\\t\\t\\t\\t<a href=\"/db/person/info/?person_id=15225\"><img src=\"https://image.cine21.com/resize/cine21/person/2020/0122/14_08_29__5e27d8cd3a537[X145,145].jpg\" alt=\"\" class=\"people_thumb\" target=\"_blank\" /></a>\\r\\n\\t\\t\\t\\t\\t<div class=\"name\"><a href=\"/db/person/info/?person_id=15225\">권상우(1편)</a></div>\\r\\n\\t\\t\\t\\t\\t<ul class=\"num_info\">\\r\\n\\t\\t\\t\\t\\t\\t<li><span class=\"tit\">흥행지수</span><strong>48,287</strong></li>\\r\\n\\t\\t\\t\\t\\t\\t<!--\\r\\n\\t\\t\\t\\t\\t\\t<li><a href=\"#\" class=\"btn_graph\"><span class=\"ico\"></span><span>흥행성적<br />그래프로 보기</span></a></li>\\r\\n\\t\\t\\t\\t\\t\\t-->\\r\\n\\t\\t\\t\\t\\t</ul>\\r\\n\\t\\t\\t\\t\\t<!-- 영화포스터는 최대 5개까지만 -->\\r\\n\\t\\t\\t\\t\\t<ul class=\"mov_list\">\\r\\n\\t\\t\\t\\t\\t\\t\\r\\n\\t\\t\\t\\t\\t\\t\\t<li>\\r\\n\\t\\t\\t\\t\\t\\t\\t\\t<a href=\"/movie/info/?movie_id=56540\">\\r\\n\\t\\t\\t\\t\\t\\t\\t\\t\\t<img src=\"https://image.cine21.com/resize/cine21/poster/2022/0127/56540_61f1fcfdd84ce[X85,120].jpg\" alt=\"\" class=\"thumb\"  target=\"_blank\" />\\r\\n\\t\\t\\t\\t\\t\\t\\t\\t\\t<span>해적: 도깨비 깃발</span>\\r\\n\\t\\t\\t\\t\\t\\t\\t\\t</a>\\r\\n\\t\\t\\t\\t\\t\\t\\t</li>\\r\\n\\t\\t\\t\\t\\t\\t\\t\\t\\t\\t\\t</ul>\\r\\n\\t\\t\\t\\t\\t<!-- 순위 --><span class=\"grade\">4</span>\\r\\n\\t\\t\\t\\t</li>\\r\\n\\t\\t\\t\\t<li class=\"people_li\">\\r\\n\\t\\t\\t\\t\\t<a href=\"/db/person/info/?person_id=60358\"><img src=\"https://image.cine21.com/resize/cine21/person/2019/1218/16_07_44__5df9d040b5395[X145,145].jpg\" alt=\"\" class=\"people_thumb\" target=\"_blank\" /></a>\\r\\n\\t\\t\\t\\t\\t<div class=\"name\"><a href=\"/db/person/info/?person_id=60358\">조진웅(2편)</a></div>\\r\\n\\t\\t\\t\\t\\t<ul class=\"num_info\">\\r\\n\\t\\t\\t\\t\\t\\t<li><span class=\"tit\">흥행지수</span><strong>45,244</strong></li>\\r\\n\\t\\t\\t\\t\\t\\t<!--\\r\\n\\t\\t\\t\\t\\t\\t<li><a href=\"#\" class=\"btn_graph\"><span class=\"ico\"></span><span>흥행성적<br />그래프로 보기</span></a></li>\\r\\n\\t\\t\\t\\t\\t\\t-->\\r\\n\\t\\t\\t\\t\\t</ul>\\r\\n\\t\\t\\t\\t\\t<!-- 영화포스터는 최대 5개까지만 -->\\r\\n\\t\\t\\t\\t\\t<ul class=\"mov_list\">\\r\\n\\t\\t\\t\\t\\t\\t\\r\\n\\t\\t\\t\\t\\t\\t\\t<li>\\r\\n\\t\\t\\t\\t\\t\\t\\t\\t<a href=\"/movie/info/?movie_id=55457\">\\r\\n\\t\\t\\t\\t\\t\\t\\t\\t\\t<img src=\"https://image.cine21.com/resize/cine21/poster/2022/0105/55457_61d53224dfe4f[X85,120].jpg\" alt=\"\" class=\"thumb\"  target=\"_blank\" />\\r\\n\\t\\t\\t\\t\\t\\t\\t\\t\\t<span>경관의 피</span>\\r\\n\\t\\t\\t\\t\\t\\t\\t\\t</a>\\r\\n\\t\\t\\t\\t\\t\\t\\t</li>\\r\\n\\t\\t\\t\\t\\t\\t\\r\\n\\t\\t\\t\\t\\t\\t\\t<li>\\r\\n\\t\\t\\t\\t\\t\\t\\t\\t<a href=\"/movie/info/?movie_id=57692\">\\r\\n\\t\\t\\t\\t\\t\\t\\t\\t\\t<img src=\"https://image.cine21.com/resize/cine21/poster/2021/1108/57692_6188812720cca[X85,120].jpg\" alt=\"\" class=\"thumb\"  target=\"_blank\" />\\r\\n\\t\\t\\t\\t\\t\\t\\t\\t\\t<span>1984 최동원</span>\\r\\n\\t\\t\\t\\t\\t\\t\\t\\t</a>\\r\\n\\t\\t\\t\\t\\t\\t\\t</li>\\r\\n\\t\\t\\t\\t\\t\\t\\t\\t\\t\\t\\t</ul>\\r\\n\\t\\t\\t\\t\\t<!-- 순위 --><span class=\"grade\">5</span>\\r\\n\\t\\t\\t\\t</li>\\r\\n\\t\\t\\t\\t<li class=\"people_li\">\\r\\n\\t\\t\\t\\t\\t<a href=\"/db/person/info/?person_id=20772\"><img src=\"https://image.cine21.com/resize/cine21/still/2019/0321/14_48_28__5c9325acdce6f[X145,145].jpg\" alt=\"\" class=\"people_thumb\" target=\"_blank\" /></a>\\r\\n\\t\\t\\t\\t\\t<div class=\"name\"><a href=\"/db/person/info/?person_id=20772\">박희순(1편)</a></div>\\r\\n\\t\\t\\t\\t\\t<ul class=\"num_info\">\\r\\n\\t\\t\\t\\t\\t\\t<li><span class=\"tit\">흥행지수</span><strong>40,128</strong></li>\\r\\n\\t\\t\\t\\t\\t\\t<!--\\r\\n\\t\\t\\t\\t\\t\\t<li><a href=\"#\" class=\"btn_graph\"><span class=\"ico\"></span><span>흥행성적<br />그래프로 보기</span></a></li>\\r\\n\\t\\t\\t\\t\\t\\t-->\\r\\n\\t\\t\\t\\t\\t</ul>\\r\\n\\t\\t\\t\\t\\t<!-- 영화포스터는 최대 5개까지만 -->\\r\\n\\t\\t\\t\\t\\t<ul class=\"mov_list\">\\r\\n\\t\\t\\t\\t\\t\\t\\r\\n\\t\\t\\t\\t\\t\\t\\t<li>\\r\\n\\t\\t\\t\\t\\t\\t\\t\\t<a href=\"/movie/info/?movie_id=55457\">\\r\\n\\t\\t\\t\\t\\t\\t\\t\\t\\t<img src=\"https://image.cine21.com/resize/cine21/poster/2022/0105/55457_61d53224dfe4f[X85,120].jpg\" alt=\"\" class=\"thumb\"  target=\"_blank\" />\\r\\n\\t\\t\\t\\t\\t\\t\\t\\t\\t<span>경관의 피</span>\\r\\n\\t\\t\\t\\t\\t\\t\\t\\t</a>\\r\\n\\t\\t\\t\\t\\t\\t\\t</li>\\r\\n\\t\\t\\t\\t\\t\\t\\t\\t\\t\\t\\t</ul>\\r\\n\\t\\t\\t\\t\\t<!-- 순위 --><span class=\"grade\">6</span>\\r\\n\\t\\t\\t\\t</li>\\r\\n\\t\\t\\t\\t<li class=\"people_li\">\\r\\n\\t\\t\\t\\t\\t<a href=\"/db/person/info/?person_id=95811\"><img src=\"https://image.cine21.com/resize/cine21/still/2018/1207/16_11_46__5c0a1d32b2ad7[X145,145].jpg\" alt=\"\" class=\"people_thumb\" target=\"_blank\" /></a>\\r\\n\\t\\t\\t\\t\\t<div class=\"name\"><a href=\"/db/person/info/?person_id=95811\">채수빈(1편)</a></div>\\r\\n\\t\\t\\t\\t\\t<ul class=\"num_info\">\\r\\n\\t\\t\\t\\t\\t\\t<li><span class=\"tit\">흥행지수</span><strong>38,630</strong></li>\\r\\n\\t\\t\\t\\t\\t\\t<!--\\r\\n\\t\\t\\t\\t\\t\\t<li><a href=\"#\" class=\"btn_graph\"><span class=\"ico\"></span><span>흥행성적<br />그래프로 보기</span></a></li>\\r\\n\\t\\t\\t\\t\\t\\t-->\\r\\n\\t\\t\\t\\t\\t</ul>\\r\\n\\t\\t\\t\\t\\t<!-- 영화포스터는 최대 5개까지만 -->\\r\\n\\t\\t\\t\\t\\t<ul class=\"mov_list\">\\r\\n\\t\\t\\t\\t\\t\\t\\r\\n\\t\\t\\t\\t\\t\\t\\t<li>\\r\\n\\t\\t\\t\\t\\t\\t\\t\\t<a href=\"/movie/info/?movie_id=56540\">\\r\\n\\t\\t\\t\\t\\t\\t\\t\\t\\t<img src=\"https://image.cine21.com/resize/cine21/poster/2022/0127/56540_61f1fcfdd84ce[X85,120].jpg\" alt=\"\" class=\"thumb\"  target=\"_blank\" />\\r\\n\\t\\t\\t\\t\\t\\t\\t\\t\\t<span>해적: 도깨비 깃발</span>\\r\\n\\t\\t\\t\\t\\t\\t\\t\\t</a>\\r\\n\\t\\t\\t\\t\\t\\t\\t</li>\\r\\n\\t\\t\\t\\t\\t\\t\\t\\t\\t\\t\\t</ul>\\r\\n\\t\\t\\t\\t\\t<!-- 순위 --><span class=\"grade\">7</span>\\r\\n\\t\\t\\t\\t</li>\\r\\n\\t\\t\\t</ul>\\r\\n\\r\\n\\r\\n\\t\\t\\t\\t<div class=\"pagination\"><a href=\"javascript:fetch_list(1)\" class=\"btn_first\"><span class=\"hidden\">처음으로</span><span class=\"ico\"></span></a><div class=\"page\"><a href=\"javascript:;\" class=\"on\">1</a><a href=\"javascript:fetch_list(2)\">2</a><a href=\"javascript:fetch_list(3)\">3</a><a href=\"javascript:fetch_list(4)\">4</a><a href=\"javascript:fetch_list(5)\">5</a><a href=\"javascript:fetch_list(6)\">6</a><a href=\"javascript:fetch_list(7)\">7</a><a href=\"javascript:fetch_list(8)\">8</a><a href=\"javascript:fetch_list(9)\">9</a><a href=\"javascript:fetch_list(10)\">10</a></div><a href=\"javascript:fetch_list(11)\" class=\"btn_next\"><span class=\"hidden\">다음</span><span class=\"ico\"></span></a><a href=\"javascript:fetch_list(55)\" class=\"btn_end\"><span class=\"hidden\">끝으로</span><span class=\"ico\"></span></a>\\t\\t\\t\\t</div>'"
            ]
          },
          "metadata": {},
          "execution_count": 6
        }
      ],
      "source": [
        "res.text"
      ]
    },
    {
      "cell_type": "code",
      "execution_count": 7,
      "metadata": {
        "id": "7Oz7CNp0vaeR"
      },
      "outputs": [],
      "source": [
        "soup = BeautifulSoup(res.text, 'html.parser')"
      ]
    },
    {
      "cell_type": "code",
      "source": [
        "actors_info_list = list()\n",
        "actors_0 = soup.select('li.people_li')\n",
        "for index, actors in enumerate(actors_0) :\n",
        "    actor = actors.select_one('div.name')\n",
        "    actor_info_dict = dict()\n",
        "    actor_name = re.sub('\\(\\w*\\)', '', actor.text)\n",
        "    actor_info_dict['이름'] = actor_name\n",
        "    \n",
        "    actor_link = 'http://www.cine21.com' + actor.select_one('a')['href']\n",
        "    response_actor = requests.get(actor_link)\n",
        "    soup_actor = BeautifulSoup(response_actor.text, 'html.parser')\n",
        "    default_info = soup_actor.select_one('ul.default_info')\n",
        "    actor_details = default_info.select('li')\n",
        "    \n",
        "    for actor_detail in actor_details:\n",
        "        actor_detail_key = actor_detail.select_one('span.tit').text\n",
        "        actor_detail_value = re.sub('<span.*>.*</span>', '', str(actor_detail))\n",
        "        actor_detail_value = re.sub('<.*?>', '', actor_detail_value)\n",
        "        actor_info_dict[actor_detail_key] = actor_detail_value\n",
        "   \n",
        "   # actor_add_info_key = ['흥행지수', '출연작품', '랭킹']\n",
        "    actor_num_info_val = actors.select_one('ul.num_info').text.strip()[4:]\n",
        "    actor_mov_list_val =  actors.select_one('ul.mov_list').text.strip()\n",
        "    actor_mov_list_val_list = actor_mov_list_val.split('\\n\\n\\n\\n\\n\\n')\n",
        "    actor_grade_val = actors.select_one('span.grade').text\n",
        "    actor_info_dict['흥행지수'] = actor_num_info_val\n",
        "    actor_info_dict['출연작품'] = actor_mov_list_val_list\n",
        "    actor_info_dict['랭킹'] = actor_grade_val\n",
        "    \n",
        "    actors_info_list.append(actor_info_dict)\n",
        "    ####actors_info_list.append(~~~)\n",
        "actors_info_list"
      ],
      "metadata": {
        "colab": {
          "base_uri": "https://localhost:8080/"
        },
        "id": "oATqYRGn73Ea",
        "outputId": "37f35ef5-19fc-4cb2-f7bc-712169b674b4"
      },
      "execution_count": 77,
      "outputs": [
        {
          "output_type": "execute_result",
          "data": {
            "text/plain": [
              "[{'다른 이름': '김하늘',\n",
              "  '랭킹': '1',\n",
              "  '생년월일': '1990-02-21',\n",
              "  '성별': '남',\n",
              "  '신장/체중': '181cm, 70kg',\n",
              "  '이름': '강하늘',\n",
              "  '직업': '배우',\n",
              "  '출연작품': ['해적: 도깨비 깃발', '해피 뉴 이어'],\n",
              "  '학교': '중앙대학교 연극학과',\n",
              "  '홈페이지': '\\nhttp://weibo.com/galpos3?is_hot=1\\n',\n",
              "  '흥행지수': '79,392'},\n",
              " {'랭킹': '2',\n",
              "  '생년월일': '1987-02-22',\n",
              "  '성별': '여',\n",
              "  '신장/체중': '170cm',\n",
              "  '이름': '한효주',\n",
              "  '직업': '배우',\n",
              "  '출연작품': ['해적: 도깨비 깃발'],\n",
              "  '취미': '영화감상',\n",
              "  '학교': '동국대학교 연극영화',\n",
              "  '홈페이지': '\\nhttps://www.facebook.com/hhj.official\\n',\n",
              "  '흥행지수': '67,602'},\n",
              " {'랭킹': '3',\n",
              "  '생년월일': '1985-07-14',\n",
              "  '성별': '남',\n",
              "  '소속사': '킹콩엔터테인먼트',\n",
              "  '신장/체중': '190cm',\n",
              "  '이름': '이광수',\n",
              "  '직업': '배우',\n",
              "  '출연작품': ['해적: 도깨비 깃발', '해피 뉴 이어'],\n",
              "  '홈페이지': '\\nhttps://twitter.com/masijacoke85\\nhttps://www.instagram.com/masijacoke850714/\\n',\n",
              "  '흥행지수': '59,677'},\n",
              " {'다른 이름': 'Kwon Sang Woo',\n",
              "  '랭킹': '4',\n",
              "  '생년월일': '1976-08-05',\n",
              "  '성별': '남',\n",
              "  '소속사': '벨액터스 엔터테인먼트',\n",
              "  '신장/체중': '183cm, 72kg',\n",
              "  '이름': '권상우',\n",
              "  '직업': '배우',\n",
              "  '출연작품': ['해적: 도깨비 깃발'],\n",
              "  '취미': '수영, 헬스, 복싱',\n",
              "  '특기': '농구',\n",
              "  '학교': '한남대학교 미술교육학 학사',\n",
              "  '흥행지수': '48,287'},\n",
              " {'다른 이름': '조원준',\n",
              "  '랭킹': '5',\n",
              "  '생년월일': '1976-03-03',\n",
              "  '성별': '남',\n",
              "  '소속사': '㈜사람엔터테인먼트',\n",
              "  '신장/체중': '185cm, 98kg',\n",
              "  '이름': '조진웅',\n",
              "  '직업': '배우',\n",
              "  '출연작품': ['경관의 피', '1984 최동원'],\n",
              "  '특기': '진도 북춤',\n",
              "  '학교': '경성대학교 연극영화',\n",
              "  '홈페이지': '\\nhttp://www.facebook.com/saram.chojinwoong\\n',\n",
              "  '흥행지수': '45,244'},\n",
              " {'랭킹': '6',\n",
              "  '생년월일': '1970-02-13',\n",
              "  '성별': '남',\n",
              "  '신장/체중': '180cm, 70kg',\n",
              "  '이름': '박희순',\n",
              "  '직업': '배우',\n",
              "  '출연작품': ['경관의 피'],\n",
              "  '학교': '서울예술대학 연극과',\n",
              "  '홈페이지': '\\nhttps://twitter.com/sulebari\\n',\n",
              "  '흥행지수': '40,128'},\n",
              " {'랭킹': '7',\n",
              "  '생년월일': '1994-07-10',\n",
              "  '성별': '여',\n",
              "  '이름': '채수빈',\n",
              "  '직업': '배우',\n",
              "  '출연작품': ['해적: 도깨비 깃발'],\n",
              "  '홈페이지': '\\nhttps://instagram.com/soobinms/\\nhttps://www.facebook.com/OfficialChaesoobin\\n',\n",
              "  '흥행지수': '38,630'}]"
            ]
          },
          "metadata": {},
          "execution_count": 77
        }
      ]
    },
    {
      "cell_type": "code",
      "source": [
        "#흥행지수, 출연영화(리스트로 만들기), 랭킹 추가\n",
        "#1-10페이지까지 확장\n"
      ],
      "metadata": {
        "id": "eStgOxZSttXz"
      },
      "execution_count": null,
      "outputs": []
    }
  ]
}